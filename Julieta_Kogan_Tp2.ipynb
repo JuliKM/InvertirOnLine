{
  "nbformat": 4,
  "nbformat_minor": 0,
  "metadata": {
    "kernelspec": {
      "display_name": "Python 3",
      "language": "python",
      "name": "python3"
    },
    "language_info": {
      "codemirror_mode": {
        "name": "ipython",
        "version": 3
      },
      "file_extension": ".py",
      "mimetype": "text/x-python",
      "name": "python",
      "nbconvert_exporter": "python",
      "pygments_lexer": "ipython3",
      "version": "3.7.3"
    },
    "colab": {
      "name": "Julieta Kogan Tp2",
      "provenance": [],
      "collapsed_sections": [],
      "include_colab_link": true
    }
  },
  "cells": [
    {
      "cell_type": "markdown",
      "metadata": {
        "id": "view-in-github",
        "colab_type": "text"
      },
      "source": [
        "<a href=\"https://colab.research.google.com/github/JuliKM/InvertirOnLine/blob/master/Julieta_Kogan_Tp2.ipynb\" target=\"_parent\"><img src=\"https://colab.research.google.com/assets/colab-badge.svg\" alt=\"Open In Colab\"/></a>"
      ]
    },
    {
      "cell_type": "markdown",
      "metadata": {
        "id": "3iHsRBSHmUQ4"
      },
      "source": [
        "# Trabajo práctico 2"
      ]
    },
    {
      "cell_type": "markdown",
      "metadata": {
        "id": "I77uG040mURl"
      },
      "source": [
        "### Obtener datasets"
      ]
    },
    {
      "cell_type": "code",
      "metadata": {
        "colab": {
          "base_uri": "https://localhost:8080/"
        },
        "id": "CAcm0EZMTnUq",
        "outputId": "9869f25d-660d-49a2-9011-60433da68993"
      },
      "source": [
        "pip install kaggle"
      ],
      "execution_count": null,
      "outputs": [
        {
          "output_type": "stream",
          "text": [
            "Requirement already satisfied: kaggle in /usr/local/lib/python3.7/dist-packages (1.5.12)\n",
            "Requirement already satisfied: urllib3 in /usr/local/lib/python3.7/dist-packages (from kaggle) (1.24.3)\n",
            "Requirement already satisfied: certifi in /usr/local/lib/python3.7/dist-packages (from kaggle) (2020.12.5)\n",
            "Requirement already satisfied: python-slugify in /usr/local/lib/python3.7/dist-packages (from kaggle) (4.0.1)\n",
            "Requirement already satisfied: requests in /usr/local/lib/python3.7/dist-packages (from kaggle) (2.23.0)\n",
            "Requirement already satisfied: tqdm in /usr/local/lib/python3.7/dist-packages (from kaggle) (4.41.1)\n",
            "Requirement already satisfied: python-dateutil in /usr/local/lib/python3.7/dist-packages (from kaggle) (2.8.1)\n",
            "Requirement already satisfied: six>=1.10 in /usr/local/lib/python3.7/dist-packages (from kaggle) (1.15.0)\n",
            "Requirement already satisfied: text-unidecode>=1.3 in /usr/local/lib/python3.7/dist-packages (from python-slugify->kaggle) (1.3)\n",
            "Requirement already satisfied: idna<3,>=2.5 in /usr/local/lib/python3.7/dist-packages (from requests->kaggle) (2.10)\n",
            "Requirement already satisfied: chardet<4,>=3.0.2 in /usr/local/lib/python3.7/dist-packages (from requests->kaggle) (3.0.4)\n"
          ],
          "name": "stdout"
        }
      ]
    },
    {
      "cell_type": "code",
      "metadata": {
        "colab": {
          "base_uri": "https://localhost:8080/"
        },
        "id": "vLhhk8q7Tulr",
        "outputId": "a3291aa0-20b0-435e-ef3f-8a9205edc47d"
      },
      "source": [
        "!gdown kaggle competitions download -c tp-n2-aprendizaje-profundo-2021-by-datitos-v2"
      ],
      "execution_count": null,
      "outputs": [
        {
          "output_type": "stream",
          "text": [
            "usage: gdown [-h] [-V] [-O OUTPUT] [-q] [--id] url_or_id\n",
            "gdown: error: unrecognized arguments: competitions download -c tp-n2-aprendizaje-profundo-2021-by-datitos-v2\n"
          ],
          "name": "stdout"
        }
      ]
    },
    {
      "cell_type": "code",
      "metadata": {
        "id": "EsApihmYmURr",
        "colab": {
          "base_uri": "https://localhost:8080/"
        },
        "outputId": "6a82bf47-00a9-45e0-d1f0-3e8f8c0a5e82"
      },
      "source": [
        "!kaggle competitions download -c tp-n2-aprendizaje-profundo-2021-by-datitos-v2"
      ],
      "execution_count": null,
      "outputs": [
        {
          "output_type": "stream",
          "text": [
            "Traceback (most recent call last):\n",
            "  File \"/usr/local/bin/kaggle\", line 5, in <module>\n",
            "    from kaggle.cli import main\n",
            "  File \"/usr/local/lib/python2.7/dist-packages/kaggle/__init__.py\", line 23, in <module>\n",
            "    api.authenticate()\n",
            "  File \"/usr/local/lib/python2.7/dist-packages/kaggle/api/kaggle_api_extended.py\", line 146, in authenticate\n",
            "    self.config_file, self.config_dir))\n",
            "IOError: Could not find kaggle.json. Make sure it's located in /root/.kaggle. Or use the environment method.\n"
          ],
          "name": "stdout"
        }
      ]
    },
    {
      "cell_type": "code",
      "metadata": {
        "id": "qgBJ48SRmUR1",
        "colab": {
          "base_uri": "https://localhost:8080/"
        },
        "outputId": "3f886596-82f2-48b1-c2cb-c25b855010e1"
      },
      "source": [
        "!unzip tp-n2-aprendizaje-profundo-2021-by-datitos-v2.zip"
      ],
      "execution_count": null,
      "outputs": [
        {
          "output_type": "stream",
          "text": [
            "unzip:  cannot find or open tp-n2-aprendizaje-profundo-2021-by-datitos-v2.zip, tp-n2-aprendizaje-profundo-2021-by-datitos-v2.zip.zip or tp-n2-aprendizaje-profundo-2021-by-datitos-v2.zip.ZIP.\n"
          ],
          "name": "stdout"
        }
      ]
    },
    {
      "cell_type": "markdown",
      "metadata": {
        "id": "b78AkCg6mUR8"
      },
      "source": [
        "### Cargar datasets"
      ]
    },
    {
      "cell_type": "code",
      "metadata": {
        "id": "c_LqmdMbmUSB"
      },
      "source": [
        "import pandas as pd\n",
        "import numpy as np\n",
        "\n",
        "df = pd.read_csv('fifa2021_training.csv')\n",
        "df_infer = pd.read_csv('fifa2021_test.csv')"
      ],
      "execution_count": 19,
      "outputs": []
    },
    {
      "cell_type": "markdown",
      "metadata": {
        "id": "Oek1Ft7omUSH"
      },
      "source": [
        "### Breve análisis exploratorio"
      ]
    },
    {
      "cell_type": "code",
      "metadata": {
        "id": "-xeisLcqmUSL",
        "colab": {
          "base_uri": "https://localhost:8080/"
        },
        "outputId": "fbdbb9e1-c0cd-4a5a-fcf8-81fba822285a"
      },
      "source": [
        "df.iloc[0]"
      ],
      "execution_count": 4,
      "outputs": [
        {
          "output_type": "execute_result",
          "data": {
            "text/plain": [
              "ID                            243620\n",
              "Name                   Adam Hellborg\n",
              "Natinality                    Sweden\n",
              "Overal                            64\n",
              "Potential                         73\n",
              "Height                           188\n",
              "Weight                            79\n",
              "PreferredFoot                      R\n",
              "BirthDate              July 30, 1998\n",
              "Age                               22\n",
              "PlayerWorkRate         Medium/Medium\n",
              "WeakFoot                           3\n",
              "SkillMoves                         2\n",
              "Value                        1.2e+06\n",
              "Wage                            1500\n",
              "Club                       IK Sirius\n",
              "Club_KitNumber                     2\n",
              "Club_JoinedClub         Jan. 8, 2020\n",
              "Club_ContractLength             2022\n",
              "BallControl                       62\n",
              "Dribbling                         55\n",
              "Marking                           60\n",
              "SlideTackle                       57\n",
              "StandTackle                       60\n",
              "Aggression                        71\n",
              "Reactions                         58\n",
              "Interceptions                     60\n",
              "Vision                            61\n",
              "Composure                         63\n",
              "Crossing                          44\n",
              "ShortPass                         67\n",
              "LongPass                          64\n",
              "Acceleration                      54\n",
              "Stamina                           66\n",
              "Strength                          70\n",
              "Balance                           54\n",
              "SprintSpeed                       46\n",
              "Agility                           58\n",
              "Jumping                           57\n",
              "Heading                           53\n",
              "ShotPower                         55\n",
              "Finishing                         39\n",
              "LongShots                         43\n",
              "Curve                             39\n",
              "FKAcc                             33\n",
              "Penalties                         43\n",
              "Volleys                           41\n",
              "GKDiving                          13\n",
              "GKHandling                        10\n",
              "GKKicking                         13\n",
              "GKReflexes                        12\n",
              "Sex                             Male\n",
              "Position                         MID\n",
              "Name: 0, dtype: object"
            ]
          },
          "metadata": {
            "tags": []
          },
          "execution_count": 4
        }
      ]
    },
    {
      "cell_type": "markdown",
      "metadata": {
        "id": "mo1aWIMImUSP"
      },
      "source": [
        "### Particionar datasets"
      ]
    },
    {
      "cell_type": "code",
      "metadata": {
        "id": "QQbMzds_mUSS"
      },
      "source": [
        "from sklearn.model_selection import train_test_split\n",
        "\n",
        "df_train, df_valid = train_test_split(df, stratify=df.Position, train_size=0.9, random_state=42)"
      ],
      "execution_count": 2,
      "outputs": []
    },
    {
      "cell_type": "markdown",
      "metadata": {
        "id": "bzMtK-J5mUSW"
      },
      "source": [
        "### Definir transformaciones"
      ]
    },
    {
      "cell_type": "code",
      "metadata": {
        "id": "8qLP2ZhimUSe"
      },
      "source": [
        "from sklearn.preprocessing import StandardScaler, OneHotEncoder\n",
        "from sklearn.compose import make_column_transformer\n",
        "\n",
        "variables_descartar = [\n",
        "   'Position', # variable objetivo\n",
        "    'ID',\n",
        "    'Name',\n",
        "    'Natinality',\n",
        "    'Potential',\n",
        "    'BirthDate',\n",
        "    'WeakFoot',\n",
        "    'Value',\n",
        "    'Wage',\n",
        "    'Club',\n",
        "    'Club_KitNumber',\n",
        "    'Club_JoinedClub',\n",
        "    'Club_ContractLength',\n",
        "]\n",
        "\n",
        "variables_categóricas = df.drop(columns=variables_descartar).select_dtypes(include=np.object).columns\n",
        "variables_numéricas   = df.drop(columns=variables_descartar).select_dtypes(include=np.number).columns\n",
        "\n",
        "transformador = make_column_transformer(\n",
        "    (OneHotEncoder(handle_unknown='ignore'),  variables_categóricas), # PreferredFoot, PlayerWorkRate, Sex resolver nacionalidad con handle_unknown='ignore' Eso trae otro probl despues, asi q por ahora vamos con eliminar los dos paises q me joden\n",
        "    (StandardScaler(), variables_numéricas),   # Overal, Potential, Height, etc.\n",
        "    remainder='drop' # descarta las columnas no mencionadas en las transformaciones\n",
        ")"
      ],
      "execution_count": 23,
      "outputs": []
    },
    {
      "cell_type": "markdown",
      "metadata": {
        "id": "dd6k0E6CmUSk"
      },
      "source": [
        "### Entrenar transformador\n",
        "\n",
        "Esencialmente, calculamos los **promedios** y las **desviaciones estándares** que usaremos para la estandarización.\n",
        "\n",
        "**ESTOS VALORES SOLO DEBEN SER OBTENIDOS DEL DATASET DE ENTRENAMIENTO**."
      ]
    },
    {
      "cell_type": "code",
      "metadata": {
        "id": "ACTcffQdmUSo",
        "colab": {
          "base_uri": "https://localhost:8080/"
        },
        "outputId": "22b7a7e3-35b4-4238-cfca-d21531110077"
      },
      "source": [
        "transformador.fit(df_train)"
      ],
      "execution_count": 24,
      "outputs": [
        {
          "output_type": "execute_result",
          "data": {
            "text/plain": [
              "ColumnTransformer(n_jobs=None, remainder='drop', sparse_threshold=0.3,\n",
              "                  transformer_weights=None,\n",
              "                  transformers=[('onehotencoder',\n",
              "                                 OneHotEncoder(categories='auto', drop=None,\n",
              "                                               dtype=<class 'numpy.float64'>,\n",
              "                                               handle_unknown='ignore',\n",
              "                                               sparse=True),\n",
              "                                 Index(['PreferredFoot', 'PlayerWorkRate', 'Sex'], dtype='object')),\n",
              "                                ('standardscaler',\n",
              "                                 StandardScaler(copy=True, with_mean=T...\n",
              "       'Dribbling', 'Marking', 'SlideTackle', 'StandTackle', 'Aggression',\n",
              "       'Reactions', 'Interceptions', 'Vision', 'Composure', 'Crossing',\n",
              "       'ShortPass', 'LongPass', 'Acceleration', 'Stamina', 'Strength',\n",
              "       'Balance', 'SprintSpeed', 'Agility', 'Jumping', 'Heading', 'ShotPower',\n",
              "       'Finishing', 'LongShots', 'Curve', 'FKAcc', 'Penalties', 'Volleys',\n",
              "       'GKDiving', 'GKHandling', 'GKKicking', 'GKReflexes'],\n",
              "      dtype='object'))],\n",
              "                  verbose=False)"
            ]
          },
          "metadata": {
            "tags": []
          },
          "execution_count": 24
        }
      ]
    },
    {
      "cell_type": "markdown",
      "metadata": {
        "id": "VwmtZimPmUSs"
      },
      "source": [
        "### Transformar datasets"
      ]
    },
    {
      "cell_type": "code",
      "metadata": {
        "id": "Bf6dtlxqmUSv"
      },
      "source": [
        "# el transformador se queja si falta alguna columna de df_train :/  \n",
        "df_infer['Position'] = None\n",
        "\n",
        "\n",
        "X_train = transformador.transform(df_train)\n",
        "X_valid = transformador.transform(df_valid)\n",
        "X_infer = transformador.transform(df_infer)"
      ],
      "execution_count": 25,
      "outputs": []
    },
    {
      "cell_type": "markdown",
      "metadata": {
        "id": "pIGC1Q-OmUSx"
      },
      "source": [
        "### Transformar variable objetivo\n",
        "\n",
        "Como la variable objetivo es del tipo string, hay que llevarla a un tipo numérico para que PyTorch pueda procesarla.\n",
        "\n",
        "Este transformador mapea posiciones DEF, FWD, GK, MID a enteros **y viceversa** — la transformación inversa será útil para convertir las predicciones (enteros) en posiciones otra vez."
      ]
    },
    {
      "cell_type": "code",
      "metadata": {
        "id": "5fGjq9SpmUS0"
      },
      "source": [
        "from sklearn.preprocessing import LabelEncoder\n",
        "\n",
        "transformador_etiquetas = LabelEncoder()\n",
        "\n",
        "transformador_etiquetas.fit(df_train.Position)\n",
        "\n",
        "y_train = transformador_etiquetas.transform(df_train.Position)\n",
        "y_valid = transformador_etiquetas.transform(df_valid.Position)"
      ],
      "execution_count": 26,
      "outputs": []
    },
    {
      "cell_type": "markdown",
      "metadata": {
        "id": "JLQpCXRamUS2"
      },
      "source": [
        "### Instanciar Datasets de PyTorch\n",
        "\n",
        "El aprendizaje profundo es especialmente efectivo para imágenes y texto; para datos tabulares (como un DataFrame) el aprendizaje de máquinas clásico suele funcionar bastante bien, de ahí que PyTorch no cuente con facilidades para tratar este tipo de problemas."
      ]
    },
    {
      "cell_type": "code",
      "metadata": {
        "id": "HYK_oXkhmUS6"
      },
      "source": [
        "from torch.utils.data import Dataset\n",
        "\n",
        "class Tabular(Dataset):\n",
        "    def __init__(self, X, y=None):\n",
        "        self.X = X.astype(np.float32) # soluciona \"Expected object of scalar type Float but got scalar type Double\"\n",
        "        self.y = y \n",
        "\n",
        "    def __len__(self):\n",
        "        return len(self.X)\n",
        "    \n",
        "    def __getitem__(self, item):\n",
        "        if self.y is None:\n",
        "            return self.X[item]\n",
        "        else:\n",
        "            return self.X[item], self.y[item]\n",
        "\n",
        "        \n",
        "ds_train = Tabular(X_train, y_train)"
      ],
      "execution_count": 27,
      "outputs": []
    },
    {
      "cell_type": "code",
      "metadata": {
        "id": "56pb26PpmUS_",
        "colab": {
          "base_uri": "https://localhost:8080/"
        },
        "outputId": "ae0fee4c-04b3-46ce-e98a-ecca4d1c2ec3"
      },
      "source": [
        "ds_train[10]"
      ],
      "execution_count": 28,
      "outputs": [
        {
          "output_type": "execute_result",
          "data": {
            "text/plain": [
              "(array([ 0.        ,  1.        ,  0.        ,  0.        ,  0.        ,\n",
              "         0.        ,  0.        ,  0.        ,  0.        ,  0.        ,\n",
              "         1.        ,  0.        ,  1.        ,  2.2005258 ,  1.6827489 ,\n",
              "         0.69650096,  1.9552506 , -0.49693993,  1.5163243 ,  1.0263261 ,\n",
              "         0.5255314 , -1.4219726 , -0.93868953,  0.10657337,  2.1206129 ,\n",
              "         0.13522774,  1.5071335 ,  2.1563685 ,  0.6801946 ,  1.1708272 ,\n",
              "         1.3763508 , -0.25280562,  0.7491539 ,  1.286718  , -2.0082333 ,\n",
              "        -0.4727765 , -0.531109  , -0.06149001,  1.7349557 ,  2.030825  ,\n",
              "         2.0725315 ,  1.5956575 ,  0.90770805,  0.6198386 ,  1.1499894 ,\n",
              "         1.857724  , -0.42461264, -0.31164196, -0.19319764, -0.09562566],\n",
              "       dtype=float32), 1)"
            ]
          },
          "metadata": {
            "tags": []
          },
          "execution_count": 28
        }
      ]
    },
    {
      "cell_type": "markdown",
      "metadata": {
        "id": "UVmXf-RimUTD"
      },
      "source": [
        "### Instanciar DataLoaders de PyTorch"
      ]
    },
    {
      "cell_type": "code",
      "metadata": {
        "id": "5iMfPTe9mUTG"
      },
      "source": [
        "from torch.utils.data import DataLoader\n",
        "\n",
        "dl_train = DataLoader(ds_train, batch_size=32, shuffle=False)"
      ],
      "execution_count": 29,
      "outputs": []
    },
    {
      "cell_type": "code",
      "metadata": {
        "id": "rR7cw4hhmUTL"
      },
      "source": [
        "import torch\n",
        "X_valid = torch.tensor(X_valid).float()\n",
        "X_infer = torch.tensor(X_infer).float()\n",
        "y_valid = torch.tensor(y_valid)"
      ],
      "execution_count": 30,
      "outputs": []
    },
    {
      "cell_type": "markdown",
      "metadata": {
        "id": "GmnZPK1NmUTM"
      },
      "source": [
        "### Instanciar modelo"
      ]
    },
    {
      "cell_type": "code",
      "metadata": {
        "id": "eieNoF1BxSd9"
      },
      "source": [
        "from sklearn.model_selection import train_test_split "
      ],
      "execution_count": 31,
      "outputs": []
    },
    {
      "cell_type": "code",
      "metadata": {
        "id": "fH4Hu4jZmUTO"
      },
      "source": [
        "import torch\n",
        "import torch.nn as nn"
      ],
      "execution_count": 33,
      "outputs": []
    },
    {
      "cell_type": "code",
      "metadata": {
        "id": "H-FivChJmUTQ"
      },
      "source": [
        "IN  = X_train.shape[1]\n",
        "OUT = len(transformador_etiquetas.classes_)\n",
        "\n",
        "modelo = nn.Sequential(\n",
        "    nn.Linear(IN,  8),\n",
        "    nn.Linear( 8, 160), nn.ReLU(),\n",
        "    nn.Linear(160, 32), nn.ReLU(), \n",
        "    nn.Linear(32, OUT)\n",
        ")"
      ],
      "execution_count": 37,
      "outputs": []
    },
    {
      "cell_type": "code",
      "metadata": {
        "id": "OgjN6wD7mUTR"
      },
      "source": [
        "criterio = nn.CrossEntropyLoss()\n",
        "optimizador = torch.optim.Adam(modelo.parameters(), lr=0.0001)"
      ],
      "execution_count": 38,
      "outputs": []
    },
    {
      "cell_type": "markdown",
      "metadata": {
        "id": "vsYXMk8ymUTS"
      },
      "source": [
        "### Entrenar modelo"
      ]
    },
    {
      "cell_type": "code",
      "metadata": {
        "id": "SSJJCbvCmUTS",
        "colab": {
          "base_uri": "https://localhost:8080/"
        },
        "outputId": "18f943d5-8863-4310-cd9e-50dfab059a48"
      },
      "source": [
        "from sklearn.metrics import balanced_accuracy_score\n",
        "\n",
        "ÉPOCAS = 10\n",
        "\n",
        "for época in range(ÉPOCAS):\n",
        "    # activa capas Dropout, BatchNorm si las hubiese\n",
        "    modelo.train()\n",
        "\n",
        "    pérdidas_train = []\n",
        "    \n",
        "    for X_lote, y_lote in dl_train:\n",
        "        optimizador.zero_grad()\n",
        "\n",
        "        predicciones = modelo(X_lote)\n",
        "        pérdida = criterio(predicciones, y_lote)\n",
        "\n",
        "        pérdida.backward()\n",
        "        optimizador.step()\n",
        "        \n",
        "        pérdidas_train.append(pérdida.item())\n",
        "    \n",
        "    # desactiva capas Dropout, BatchNorm si las hubiese\n",
        "    modelo.eval()\n",
        "    \n",
        "    with torch.no_grad():\n",
        "        predicciones = modelo(X_valid)\n",
        "        pérdida = criterio(predicciones, y_valid)\n",
        "        \n",
        "        y_pred = predicciones.argmax(dim=1) # selecciona la clase con mayor probabilidad\n",
        "        \n",
        "        efectividad = balanced_accuracy_score(y_valid, y_pred)\n",
        "    \n",
        "    \n",
        "    print(f'{época:3d}  |  Train loss: {np.mean(pérdidas_train):.3f}    Valid loss: {pérdida:.3f}    Valid accuracy: {efectividad:.2f}')"
      ],
      "execution_count": 39,
      "outputs": [
        {
          "output_type": "stream",
          "text": [
            "  0  |  Train loss: 1.004    Valid loss: 0.681    Valid accuracy: 0.70\n",
            "  1  |  Train loss: 0.526    Valid loss: 0.427    Valid accuracy: 0.84\n",
            "  2  |  Train loss: 0.368    Valid loss: 0.353    Valid accuracy: 0.87\n",
            "  3  |  Train loss: 0.315    Valid loss: 0.320    Valid accuracy: 0.88\n",
            "  4  |  Train loss: 0.291    Valid loss: 0.304    Valid accuracy: 0.88\n",
            "  5  |  Train loss: 0.279    Valid loss: 0.294    Valid accuracy: 0.89\n",
            "  6  |  Train loss: 0.271    Valid loss: 0.287    Valid accuracy: 0.88\n",
            "  7  |  Train loss: 0.266    Valid loss: 0.282    Valid accuracy: 0.89\n",
            "  8  |  Train loss: 0.262    Valid loss: 0.278    Valid accuracy: 0.89\n",
            "  9  |  Train loss: 0.259    Valid loss: 0.274    Valid accuracy: 0.89\n"
          ],
          "name": "stdout"
        }
      ]
    },
    {
      "cell_type": "markdown",
      "metadata": {
        "id": "QUJ_15AymUTV"
      },
      "source": [
        "### Inferir datos de prueba"
      ]
    },
    {
      "cell_type": "code",
      "metadata": {
        "id": "JvFtsgl1mUTW"
      },
      "source": [
        "with torch.no_grad():\n",
        "    y_infer = modelo(X_infer).argmax(dim=1)\n",
        "\n",
        "df_infer['Position'] = transformador_etiquetas.inverse_transform(y_infer)\n",
        "\n",
        "(\n",
        "    df_infer[['ID', 'Position']]\n",
        "    .rename(columns={'ID':'Id', 'Position':'Category'})\n",
        "    .to_csv('submit.csv', index=False)\n",
        ")"
      ],
      "execution_count": 42,
      "outputs": []
    },
    {
      "cell_type": "markdown",
      "metadata": {
        "id": "BmuUUhQimUTZ"
      },
      "source": [
        "### Subir predicciones"
      ]
    },
    {
      "cell_type": "code",
      "metadata": {
        "id": "7H433NFSmUTa",
        "colab": {
          "base_uri": "https://localhost:8080/"
        },
        "outputId": "c4f26a27-b422-4c6e-c8bf-94e0fe2b89ba"
      },
      "source": [
        "!kaggle competitions submit -c tp-n2-aprendizaje-profundo-2021-by-datitos-v2 -f submit.csv -m \"Brasil, decime qué se siente\""
      ],
      "execution_count": 107,
      "outputs": [
        {
          "output_type": "stream",
          "text": [
            "Traceback (most recent call last):\n",
            "  File \"/usr/local/bin/kaggle\", line 5, in <module>\n",
            "    from kaggle.cli import main\n",
            "  File \"/usr/local/lib/python2.7/dist-packages/kaggle/__init__.py\", line 23, in <module>\n",
            "    api.authenticate()\n",
            "  File \"/usr/local/lib/python2.7/dist-packages/kaggle/api/kaggle_api_extended.py\", line 146, in authenticate\n",
            "    self.config_file, self.config_dir))\n",
            "IOError: Could not find kaggle.json. Make sure it's located in /root/.kaggle. Or use the environment method.\n"
          ],
          "name": "stdout"
        }
      ]
    }
  ]
}