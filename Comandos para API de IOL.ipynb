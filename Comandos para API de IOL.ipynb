{
 "cells": [
  {
   "cell_type": "code",
   "execution_count": null,
   "metadata": {},
   "outputs": [],
   "source": [
    "import requests\n",
    "import json\n",
    "import pandas as pd"
   ]
  },
  {
   "cell_type": "code",
   "execution_count": null,
   "metadata": {},
   "outputs": [],
   "source": [
    "BASE_URL = 'https://api.invertironline.com'\n",
    "USERNAME = 'Tu_usuario'\n",
    "PASSWORD = 'Tu_contrasena'\n",
    "GRANT_TYPE = 'password'"
   ]
  },
  {
   "cell_type": "markdown",
   "metadata": {},
   "source": [
    "# Obtener el token"
   ]
  },
  {
   "cell_type": "code",
   "execution_count": null,
   "metadata": {},
   "outputs": [],
   "source": [
    "url = BASE_URL + '/token'\n",
    "headers = {\"Content-Type\":\"application/x-www-form-urlencoded\"}\n",
    "body = {\n",
    "    'username': USERNAME,\n",
    "    'password': PASSWORD,\n",
    "    'grant_type': 'password'\n",
    "}\n",
    "response = requests.post(url, headers=headers, data=body)\n",
    "token = json.loads(response.text).get('access_token')\n",
    "token"
   ]
  },
  {
   "cell_type": "markdown",
   "metadata": {},
   "source": [
    "# Obtener estado de cuenta"
   ]
  },
  {
   "cell_type": "code",
   "execution_count": null,
   "metadata": {},
   "outputs": [],
   "source": [
    "url = BASE_URL +  '/api/v2/estadocuenta'\n",
    "auth = 'Bearer ' + token \n",
    "headers = {\n",
    "    'Authorization': auth\n",
    "}\n",
    "response = requests.get(url, headers=headers)\n",
    "estado = json.loads(response.text)\n",
    "estado"
   ]
  },
  {
   "cell_type": "markdown",
   "metadata": {},
   "source": [
    "# Obtener info historica"
   ]
  },
  {
   "cell_type": "code",
   "execution_count": null,
   "metadata": {},
   "outputs": [],
   "source": [
    "url = BASE_URL + '/api/v2/{m}/Titulos/{s}/Cotizacion/seriehistorica/{d}/{h}'.format(m='bCBA', s='COME', d='2018-05-08', h='2020-05-08')\n",
    "auth = 'Bearer ' + token \n",
    "headers = {\n",
    "    'Authorization': auth\n",
    "}\n",
    "response = requests.get(url, headers=headers)\n",
    "data = json.loads(response.text)\n",
    "data"
   ]
  },
  {
   "cell_type": "code",
   "execution_count": null,
   "metadata": {},
   "outputs": [],
   "source": [
    "df = pd.DataFrame.from_dict(data)"
   ]
  },
  {
   "cell_type": "code",
   "execution_count": null,
   "metadata": {},
   "outputs": [],
   "source": [
    "df.head()"
   ]
  },
  {
   "cell_type": "code",
   "execution_count": null,
   "metadata": {},
   "outputs": [],
   "source": [
    "url = BASE_URL + '/api/v2/{m}/Titulos/{s}/Cotizacion/seriehistorica/{d}/{h}'.format(m='bCBA', s='PAMP', d='2018-07-08', h='2020-05-08')\n",
    "auth = 'Bearer ' + token \n",
    "headers = {\n",
    "    'Authorization': auth\n",
    "}\n",
    "response = requests.get(url, headers=headers)\n",
    "data = json.loads(response.text)\n",
    "data"
   ]
  },
  {
   "cell_type": "code",
   "execution_count": null,
   "metadata": {},
   "outputs": [],
   "source": [
    "dfPAMP = pd.DataFrame.from_dict(data)"
   ]
  },
  {
   "cell_type": "code",
   "execution_count": null,
   "metadata": {},
   "outputs": [],
   "source": [
    "dfPAMP.head()"
   ]
  },
  {
   "cell_type": "markdown",
   "metadata": {},
   "source": [
    "# Ver instrumentos"
   ]
  },
  {
   "cell_type": "code",
   "execution_count": null,
   "metadata": {},
   "outputs": [],
   "source": [
    "url = BASE_URL +  '/api/v2/{pais}/Titulos/Cotizacion/Instrumentos'.format(pais='Argentina') \n",
    "auth = 'Bearer ' + token \n",
    "headers = {\n",
    "    'Authorization': auth\n",
    "}\n",
    "response = requests.get(url, headers=headers)\n",
    "data = json.loads(response.text)\n",
    "data\n"
   ]
  },
  {
   "cell_type": "code",
   "execution_count": null,
   "metadata": {},
   "outputs": [],
   "source": [
    "url = BASE_URL +  '/api/v2/{pais}/Titulos/Cotizacion/Paneles/{instrumento}'.format(pais='Argentina', instrumento='Bonos') \n",
    "auth = 'Bearer ' + token \n",
    "headers = {\n",
    "    'Authorization': auth\n",
    "}\n",
    "response = requests.get(url, headers=headers)\n",
    "data = json.loads(response.text)\n",
    "data"
   ]
  },
  {
   "cell_type": "code",
   "execution_count": null,
   "metadata": {},
   "outputs": [],
   "source": []
  },
  {
   "cell_type": "code",
   "execution_count": null,
   "metadata": {},
   "outputs": [],
   "source": []
  }
 ],
 "metadata": {
  "kernelspec": {
   "display_name": "Python 3",
   "language": "python",
   "name": "python3"
  },
  "language_info": {
   "codemirror_mode": {
    "name": "ipython",
    "version": 3
   },
   "file_extension": ".py",
   "mimetype": "text/x-python",
   "name": "python",
   "nbconvert_exporter": "python",
   "pygments_lexer": "ipython3",
   "version": "3.7.4"
  }
 },
 "nbformat": 4,
 "nbformat_minor": 2
}
